{
 "cells": [
  {
   "cell_type": "markdown",
   "id": "b35c3a2f-e2cb-4826-b8ce-e656012075a4",
   "metadata": {
    "tags": []
   },
   "source": [
    "# Prepare input myelopoiesis"
   ]
  },
  {
   "cell_type": "code",
   "execution_count": 1,
   "id": "a5781b7e-02d9-4cb3-bf6b-d13564d13e9e",
   "metadata": {},
   "outputs": [],
   "source": [
    "import scanpy as sc\n",
    "import pandas as pd\n",
    "import numpy as np\n",
    "import matplotlib.pyplot as plt\n",
    "\n",
    "import scvelo as scv"
   ]
  },
  {
   "cell_type": "code",
   "execution_count": null,
   "id": "03dd2e20-278a-4ae3-b4cb-272d6b494b06",
   "metadata": {},
   "outputs": [],
   "source": [
    "# tradeseq genes\n",
    "\n",
    "list_tradeseq = ['A430005L14Rik', 'AA467197', 'Ada', 'Akr1b3', 'Alyref', 'Ankrd22',\n",
    "       'Ankrd40', 'Anln', 'Anp32b', 'Anp32e', 'Anxa6', 'Arhgap11a',\n",
    "       'Asf1b', 'Asprv1', 'BC035044', 'BC100530', 'Bmi1', 'Bmpr1a',\n",
    "       'Bora', 'Bri3', 'Bst2', 'Btf3', 'Btnl9', 'C2cd3', 'Calr', 'Cbx5',\n",
    "       'Ccdc180', 'Ccdc34', 'Ccdc85b', 'Ccl5', 'Ccna2', 'Ccnb1', 'Ccnb2',\n",
    "       'Ccnd2', 'Ccr1', 'Cd3d', 'Cd52', 'Cdc20', 'Cdc25c', 'Cdca3',\n",
    "       'Cdca8', 'Cdk1', 'Cdk4', 'Cdkn3', 'Cenpe', 'Cenpf', 'Cenpi',\n",
    "       'Cenpm', 'Cenpp', 'Cenpv', 'Cenpw', 'Cep120', 'Ces2g', 'Chchd7',\n",
    "       'Chil1', 'Chil3', 'Cit', 'Ckap5', 'Cks1b', 'Cks2', 'Clec5a',\n",
    "       'Cmc1', 'Cmc2', 'Cracr2b', 'Csrp1', 'Cst7', 'Cystm1', 'Dbf4',\n",
    "       'Dbt', 'Ddost', 'Ddx3y', 'Depdc1a', 'Desi1', 'Dhcr24', 'Dnmt1',\n",
    "       'Dock7', 'Dpysl2', 'Dsp', 'Ect2', 'Eif2s3y', 'Emilin2', 'Eny2',\n",
    "       'Epsti1', 'Etfb', 'Ezh2', 'F10', 'F13a1', 'Fbxo5', 'Fcnb', 'Fkbp2',\n",
    "       'Fmc1', 'Fundc2', 'Gas2l3', 'Gatm', 'Gda', 'Gdpd3', 'Gem', 'Gkap1',\n",
    "       'Gm12166', 'Gm1673', 'Gm5160', 'Gnb2', 'Grcc10', 'Gsdme', 'H1f0',\n",
    "       'H2-Eb1', 'H2-Q4', 'H2-Q6', 'H2-Q7', 'H2afx', 'Haus4', 'Hint1',\n",
    "       'Hist1h1b', 'Hist3h2ba', 'Hmga1b', 'Hmgb3', 'Hmgn1', 'Hmgn2',\n",
    "       'Hmmr', 'Hnrnpab', 'Hook1', 'Hsp90aa1', 'Hspa9', 'Ica1', 'Ide',\n",
    "       'Ifi27', 'Ifi27l2a', 'Ifit1', 'Ifitm2', 'Ifitm3', 'Ifitm6', 'Ighm',\n",
    "       'Igll1', 'Il1r1', 'Ilf2', 'Ints14', 'Irf7', 'Irf9', 'Isg15',\n",
    "       'Kif11', 'Kif15', 'Kif20b', 'Kif2c', 'Knl1', 'Krtcap2', 'Lcn2',\n",
    "       'Lgals3', 'Lockd', 'Lsm5', 'Ltf', 'Ly6e', 'Ly6g', 'Lyz2', 'Mad2l1',\n",
    "       'Mcm6', 'Mcm7', 'Mea1', 'Mef2c', 'Melk', 'Mis18bp1', 'Mki67',\n",
    "       'Mphosph6', 'Mrpl42', 'Ms4a3', 'Mt1', 'Mxd3', 'Myc', 'Nans',\n",
    "       'Nasp', 'Nbdy', 'Ncapd2', 'Ndc1', 'Ndufa4', 'Nfia', 'Nfxl1', 'Ngp',\n",
    "       'Nrm', 'Nsmce1', 'Nubp1', 'Nucks1', 'Nudc', 'Nudt21', 'Oas1a',\n",
    "       'Oas1g', 'Oas2', 'Oas3', 'Oasl1', 'Oasl2', 'Olr1', 'Orm1', 'Oscp1',\n",
    "       'Pbx3', 'Pclaf', 'Pdik1l', 'Pgk1', 'Pgp', 'Pilra', 'Pimreg',\n",
    "       'Pirb', 'Pkmyt1', 'Ppa1', 'Ppp2r5d', 'Prc1', 'Prmt1', 'Prr11',\n",
    "       'Prss16', 'Ptges3', 'Ptma', 'Ptms', 'Ptpn4', 'Pttg1', 'Racgap1',\n",
    "       'Rad51ap1', 'Raly', 'Ranbp1', 'Rangap1', 'Rbbp7', 'Retnlg',\n",
    "       'Rnase6', 'Rnf213', 'Rpl18', 'Rpl18a', 'Rpl22l1', 'Rpl3', 'Rpl6',\n",
    "       'Rpl7', 'Rplp2', 'Rps15a', 'Rps18', 'Rps25', 'Rps3', 'Rps4x',\n",
    "       'Rps6', 'Rps8', 'Rrm2', 'Rsad2', 'Rtca', 'Rtp4', 'Scarb1', 'Scd2',\n",
    "       'Selenom', 'Selenow', 'Serf1', 'Serpine2', 'Sgo1', 'Shisa5',\n",
    "       'Ska1', 'Slc24a5', 'Slc25a4', 'Slc43a3', 'Slfn5', 'Slfn8', 'Smc2',\n",
    "       'Smc4', 'Smim6', 'Snrpd1', 'Snrpg', 'Spag5', 'Spc24', 'Spc25',\n",
    "       'Sptssa', 'Sqle', 'Sqstm1', 'Srgn', 'Srsf1', 'Srsf7', 'St3gal5',\n",
    "       'Stfa1', 'Suv39h1', 'Suz12', 'Tacc3', 'Tagln2', 'Tceal9', 'Tcf4',\n",
    "       'Tesc', 'Timm50', 'Tipin', 'Tmed8', 'Tmem11', 'Tnfsf13os', 'Tpd52',\n",
    "       'Tpm4', 'Trappc1', 'Trim30a', 'Trim30d', 'Trim59', 'Trio',\n",
    "       'Tspan32', 'Ttk', 'Tuba1b', 'Tubb5', 'Tubb6', 'Tyms', 'Uba52',\n",
    "       'Ube2c', 'Ube2s', 'Usp1', 'Usp18', 'Vpreb3', 'Wdfy1', 'Wdr12',\n",
    "       'Wfdc17', '1700097N02Rik', '1810021B22Rik', '2210016F16Rik',\n",
    "       '4930579G24Rik', 'Xaf1', 'Xist', 'Zbp1', 'Zfp36l1', 'Zscan26']"
   ]
  },
  {
   "cell_type": "code",
   "execution_count": 2,
   "id": "0f39e98d-e479-4ff9-883c-cd95f01ba6e3",
   "metadata": {
    "tags": []
   },
   "outputs": [],
   "source": [
    "# load the adatas, computed by the previous code\n",
    "\n",
    "adata = sc.read('./data_input/adata_myelopoiesis.h5ad')# \n",
    "adata_all = sc.read('./data_input/adata_raw.h5ad')\n",
    "adata_all = adata_all[adata.obs_names,:].copy()\n",
    "\n",
    "adata_all.obs['wt_ko'] = adata.obs['wt_ko'] \n",
    "adata_all.obs['dpt_pseudotime'] = adata.obs['dpt_pseudotime'] \n",
    "\n",
    "adata_all.obsm = adata.obsm.copy()\n",
    "adata_all.uns = adata.uns.copy()\n",
    "\n",
    "adata = adata_all.copy()"
   ]
  },
  {
   "cell_type": "code",
   "execution_count": null,
   "id": "bdf7b234-0d2f-4960-96a1-d0b5b97d801e",
   "metadata": {},
   "outputs": [],
   "source": []
  },
  {
   "cell_type": "code",
   "execution_count": 14,
   "id": "226c3339-315e-4960-88f5-29c1ba83e69d",
   "metadata": {},
   "outputs": [],
   "source": [
    "# store the adata\n",
    "\n",
    "adata_store = adata.copy()"
   ]
  },
  {
   "cell_type": "code",
   "execution_count": null,
   "id": "da72a7f1-5cff-477e-bb7f-3af7c74f264e",
   "metadata": {},
   "outputs": [],
   "source": []
  },
  {
   "cell_type": "code",
   "execution_count": 31,
   "id": "3e3ba529-8457-429b-ad57-4838a60aa673",
   "metadata": {
    "tags": []
   },
   "outputs": [
    {
     "name": "stdout",
     "output_type": "stream",
     "text": [
      "Normalized count data: X, spliced, unspliced.\n",
      "Logarithmized X.\n"
     ]
    }
   ],
   "source": [
    "# HVGs\n",
    "\n",
    "scv.pp.filter_and_normalize(adata,min_shared_counts=20, n_top_genes=1000)\n",
    "hvg = adata_ery.var_names"
   ]
  },
  {
   "cell_type": "code",
   "execution_count": null,
   "id": "a0e35d81-c9e1-44c2-985a-d648b9f9ae04",
   "metadata": {},
   "outputs": [],
   "source": [
    "# combine top 1000 hvg and \n",
    "\n",
    "list_def = hvg.append(de_genes)\n",
    "list_def = np.unique(list_def)"
   ]
  },
  {
   "cell_type": "code",
   "execution_count": null,
   "id": "f1fa8b6f-adb0-4da8-b960-eb3b2027c2dc",
   "metadata": {},
   "outputs": [],
   "source": []
  },
  {
   "cell_type": "code",
   "execution_count": null,
   "id": "b0fe3fb3-8112-4147-a249-7727e2a5d6ac",
   "metadata": {},
   "outputs": [],
   "source": []
  },
  {
   "cell_type": "code",
   "execution_count": 38,
   "id": "bf250002-a836-4a20-bf8a-1ca71e447eac",
   "metadata": {
    "tags": []
   },
   "outputs": [],
   "source": [
    "# scvelo preprocessing"
   ]
  },
  {
   "cell_type": "code",
   "execution_count": null,
   "id": "b88bafa2-f5d1-4c35-bfca-cd13f7d6881e",
   "metadata": {},
   "outputs": [],
   "source": [
    "adata = adata_store.copy()\n",
    "adata = adata[:,list_def].copy()"
   ]
  },
  {
   "cell_type": "code",
   "execution_count": 39,
   "id": "830fe919-598e-453a-af13-9c6aa3a52051",
   "metadata": {
    "tags": []
   },
   "outputs": [
    {
     "name": "stdout",
     "output_type": "stream",
     "text": [
      "computing neighbors\n",
      "    finished (0:00:14) --> added \n",
      "    'distances' and 'connectivities', weighted adjacency matrices (adata.obsp)\n",
      "computing moments based on connectivities\n",
      "    finished (0:00:01) --> added \n",
      "    'Ms' and 'Mu', moments of un/spliced abundances (adata.layers)\n"
     ]
    }
   ],
   "source": [
    "scv.pp.filter_and_normalize(adata,min_shared_counts=0)\n",
    "scv.pp.moments(adata,n_neighbors=30,n_pcs=50)"
   ]
  },
  {
   "cell_type": "code",
   "execution_count": null,
   "id": "cbe1e1b6-5a4d-46aa-98be-84e0cd31e8b4",
   "metadata": {},
   "outputs": [],
   "source": []
  },
  {
   "cell_type": "code",
   "execution_count": 42,
   "id": "eb345813-6df5-496b-a53f-8c5fe6c7bcec",
   "metadata": {
    "tags": []
   },
   "outputs": [],
   "source": [
    "# Create spliced and unspliced matrix\n",
    "\n",
    "\n",
    "dfs = pd.DataFrame(adata.layers['Ms'])\n",
    "\n",
    "dfs.columns = adata.var_names\n",
    "\n",
    "dfs.index = adata.obs.dpt_pseudotime\n",
    "\n",
    "\n",
    "df_s = df_s.loc[(adata.obs_names.str.endswith('-2'))|(adata.obs_names.str.endswith('-5'))].copy()\n",
    "\n",
    "\n",
    "\n",
    "dfs_m = dfs.iloc[np.where(adata.obs.wt_ko == 'ko')[0],:].copy()\n",
    "dfs_w = dfs.iloc[np.where(adata.obs.wt_ko == 'wt')[0],:].copy()\n",
    "\n",
    "dfu = pd.DataFrame(adata.layers['Mu'])\n",
    "\n",
    "dfu.columns = adata.var_names\n",
    "\n",
    "dfu.index = adata.obs.dpt_pseudotime\n",
    "\n",
    "dfu_m = dfu.iloc[np.where(adata.obs.wt_ko == 'ko')[0],:].copy()\n",
    "dfu_w = dfu.iloc[np.where(adata.obs.wt_ko == 'wt')[0],:].copy()\n",
    "\n",
    "\n",
    "\n",
    "dfs_m.to_csv('./results/myelopoiesis_ko_spl.csv')\n",
    "dfu_m.to_csv('./results/myelopoiesis_ko_unspl.csv')\n",
    "\n",
    "dfs_w.to_csv('./results/myelopoiesis_wt_spl.csv')\n",
    "dfu_w.to_csv('./results/myelopoiesis_wt_unspl.csv')"
   ]
  }
 ],
 "metadata": {
  "kernelspec": {
   "display_name": "Python 3 (ipykernel)",
   "language": "python",
   "name": "python3"
  },
  "language_info": {
   "codemirror_mode": {
    "name": "ipython",
    "version": 3
   },
   "file_extension": ".py",
   "mimetype": "text/x-python",
   "name": "python",
   "nbconvert_exporter": "python",
   "pygments_lexer": "ipython3",
   "version": "3.7.6"
  }
 },
 "nbformat": 4,
 "nbformat_minor": 5
}
