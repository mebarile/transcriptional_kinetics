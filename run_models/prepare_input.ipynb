{
 "cells": [
  {
   "cell_type": "markdown",
   "id": "e9ff59f3-c0bd-4c1e-a12f-0b2d5978aa1c",
   "metadata": {},
   "source": [
    "# Prepare input Jack2"
   ]
  },
  {
   "cell_type": "code",
   "execution_count": null,
   "id": "e8bca505-8d38-4f63-a72e-2793c8778c56",
   "metadata": {
    "tags": []
   },
   "outputs": [],
   "source": [
    "import scanpy as sc\n",
    "import numpy as np\n",
    "import pandas as pd\n",
    "import scvelo as scv"
   ]
  },
  {
   "cell_type": "code",
   "execution_count": null,
   "id": "f414e894-f5a3-4c5d-962a-f4008d635b29",
   "metadata": {},
   "outputs": [],
   "source": [
    "# load the adata, as published by Isobe et al.\n",
    "\n",
    "adata = sc.read('./data_input/Jak2_Hom_WT_Ery.h5ad')"
   ]
  },
  {
   "cell_type": "code",
   "execution_count": null,
   "id": "41363a14-dff0-4e74-931c-10f6e63e503f",
   "metadata": {},
   "outputs": [],
   "source": []
  },
  {
   "cell_type": "code",
   "execution_count": null,
   "id": "cc16ddef-2df6-4559-8b43-a65c7f3f21bc",
   "metadata": {},
   "outputs": [],
   "source": [
    "# load the umap coordinates, as published by Isobe et al.\n",
    "\n",
    "adata_coor = sc.read('./data_input/PMCA_Jak2.h5ad')\n",
    "adata.obsm = adata_coor[adata.obs_names].obsm.copy()"
   ]
  },
  {
   "cell_type": "code",
   "execution_count": null,
   "id": "6177b512-08b7-4a12-95db-43acc81c1899",
   "metadata": {},
   "outputs": [],
   "source": []
  },
  {
   "cell_type": "code",
   "execution_count": null,
   "id": "cc29c6f8-259f-4f6c-aec3-87411b4c52db",
   "metadata": {},
   "outputs": [],
   "source": [
    "# load the loom files, containing the unspliced reads\n",
    "\n",
    "loom_MA = sc.read('./data_input/SLX11516_SIGAB2.loom') \n",
    "loom_MA.var_names_make_unique()\n",
    "\n",
    "loom_MB = sc.read('./data_input/SLX11525_SIGAB3.loom') \n",
    "loom_MB.var_names_make_unique()\n",
    "\n",
    "loom_MC = sc.read('./data_input/SLX12969_SIGAB8.loom') \n",
    "loom_MC.var_names_make_unique()\n",
    "\n",
    "loom_WA = sc.read('./data_input/SLX11516_SIGAC2.loom') \n",
    "loom_WA.var_names_make_unique()\n",
    "\n",
    "loom_WB = sc.read('./data_input/SLX11525_SIGAH2.loom') \n",
    "loom_WB.var_names_make_unique()\n",
    "\n",
    "loom_WC = sc.read('./data_input/SLX12969_SIGAA8.loom') \n",
    "loom_WC.var_names_make_unique()\n",
    "\n",
    "adata_loom = loom_WA.concatenate(loom_WB,loom_WC,loom_MA,loom_MB,loom_MC)"
   ]
  },
  {
   "cell_type": "code",
   "execution_count": null,
   "id": "8e003a60-7c17-4ee2-8d76-86db57f449af",
   "metadata": {},
   "outputs": [],
   "source": []
  },
  {
   "cell_type": "code",
   "execution_count": null,
   "id": "3b5f689a-5711-4949-b2bb-a6000ad858e7",
   "metadata": {},
   "outputs": [],
   "source": [
    "# Match the cell names\n",
    "\n",
    "list_names = adata_loom.obs_names.copy()\n",
    "list_names2 = [(name.split('x-')[0]).split(':')[1] + '-1_' + name.split(':')[0] for name in list_names]\n",
    "adata_loom.obs_names = list_names2\n",
    "adata_loom = adata_loom[adata.obs_names].copy()\n",
    "adata_loom.obs = pd.concat([adata_loom.obs,adata.obs],axis=1)"
   ]
  },
  {
   "cell_type": "code",
   "execution_count": null,
   "id": "30d34cd1-71a9-4870-9bdb-ec2f10ed6d68",
   "metadata": {},
   "outputs": [],
   "source": []
  },
  {
   "cell_type": "code",
   "execution_count": null,
   "id": "447db5c2-a5e7-4b04-8ce0-e65d1c354b93",
   "metadata": {},
   "outputs": [],
   "source": [
    "# Select the erythropoietic trajectory\n",
    "\n",
    "adata_ery = adata_loom[adata.obs.Ery_trajectory == 'Yes'].copy()"
   ]
  },
  {
   "cell_type": "code",
   "execution_count": null,
   "id": "7ff6fbdd-0b9e-49fa-bbfa-db36ab54d4ce",
   "metadata": {},
   "outputs": [],
   "source": []
  },
  {
   "cell_type": "code",
   "execution_count": null,
   "id": "66834cf6-f053-45b9-a56c-6e1c2e9d6d59",
   "metadata": {},
   "outputs": [],
   "source": [
    "# store the adata\n",
    "\n",
    "adata_ery_bu = adata_ery.copy()"
   ]
  },
  {
   "cell_type": "code",
   "execution_count": null,
   "id": "6e1ff4bf-93eb-45f3-830c-b35467410804",
   "metadata": {},
   "outputs": [],
   "source": [
    "# load the genes that are differentially expressed on this trajectory, as published by Isobe et al.\n",
    "\n",
    "de_genes = pd.read_csv('data_input/Jak2_conditionTest_Ery_lfc0.5.txt',index_col=0,sep = '\\t')\n",
    "de_genes = de_genes.index"
   ]
  },
  {
   "cell_type": "code",
   "execution_count": null,
   "id": "5b01ec81-e524-47a4-98c4-82833e05aefe",
   "metadata": {},
   "outputs": [],
   "source": []
  },
  {
   "cell_type": "code",
   "execution_count": null,
   "id": "ee1dc5c7-ed2d-47fa-a504-1d2de1ed400a",
   "metadata": {},
   "outputs": [],
   "source": [
    "# HVGs\n",
    "\n",
    "scv.pp.filter_and_normalize(adata_ery,min_shared_counts=20, n_top_genes=1000)\n",
    "hvg = adata_ery.var_names"
   ]
  },
  {
   "cell_type": "code",
   "execution_count": null,
   "id": "1f7cf6fe-286f-4479-9d7d-cddcd0896407",
   "metadata": {},
   "outputs": [],
   "source": []
  },
  {
   "cell_type": "code",
   "execution_count": null,
   "id": "22256da0-33f3-425c-87e4-93733d5f69fb",
   "metadata": {},
   "outputs": [],
   "source": [
    "# combine top 1000 hvg and \n",
    "\n",
    "list_def = hvg.append(de_genes)\n",
    "list_def = np.unique(list_def)"
   ]
  },
  {
   "cell_type": "code",
   "execution_count": null,
   "id": "0f39bfaf-2be8-401c-a62b-4d760d3aae49",
   "metadata": {},
   "outputs": [],
   "source": []
  },
  {
   "cell_type": "code",
   "execution_count": null,
   "id": "bbb2247c-1442-4f35-9757-9393e59b5c30",
   "metadata": {},
   "outputs": [],
   "source": [
    "# scvelo preprocessing"
   ]
  },
  {
   "cell_type": "code",
   "execution_count": null,
   "id": "f3d3ed23-b166-4d28-a5fa-9be90bc1b868",
   "metadata": {},
   "outputs": [],
   "source": [
    "adata_ery = adata_ery_bu.copy()\n",
    "adata_ery = adata_ery[:,list_def].copy()"
   ]
  },
  {
   "cell_type": "code",
   "execution_count": null,
   "id": "33285aca-0b3f-41e3-99c0-825c770be765",
   "metadata": {},
   "outputs": [],
   "source": [
    "scv.pp.filter_and_normalize(adata_ery,min_shared_counts=0)\n",
    "scv.pp.moments(adata_ery,n_neighbors=30,n_pcs=50)"
   ]
  },
  {
   "cell_type": "code",
   "execution_count": null,
   "id": "b6ad375a-e8fd-4766-b2ff-53461d88617b",
   "metadata": {},
   "outputs": [],
   "source": []
  },
  {
   "cell_type": "code",
   "execution_count": null,
   "id": "c4763a0b-ee76-41c5-8488-517ae75ae411",
   "metadata": {},
   "outputs": [],
   "source": [
    "# Create spliced and unspliced matrix\n",
    "\n",
    "dfs = pd.DataFrame(adata_ery.layers['Ms'])\n",
    "dfs.columns = adata_ery.var_names\n",
    "dfs.index = adata_ery.obs.dpt_pseudotime\n",
    "\n",
    "dfs_m = dfs.iloc[np.where(adata_ery.obs.Condition == 'Jak2_Homo')[0],:].copy()\n",
    "dfs_w = dfs.iloc[np.where(adata_ery.obs.Condition == 'Jak2_WT')[0],:].copy()\n",
    "\n",
    "dfu = pd.DataFrame(adata_ery.layers['Mu'])\n",
    "dfu.columns = adata_ery.var_names\n",
    "dfu.index = adata_ery.obs.dpt_pseudotime\n",
    "\n",
    "dfu_m = dfu.iloc[np.where(adata_ery.obs.Condition == 'Jak2_Homo')[0],:].copy()\n",
    "dfu_w = dfu.iloc[np.where(adata_ery.obs.Condition == 'Jak2_WT')[0],:].copy()\n",
    "\n",
    "dfs_m.to_csv('./data_input/erythropoiesis_mut_spl.csv')\n",
    "dfu_m.to_csv('./data_input/erythropoiesis_mut_unspl.csv')\n",
    "\n",
    "dfs_w.to_csv('./data_input/erythropoiesis_wt_spl.csv')\n",
    "dfu_w.to_csv('./data_input/erythropoiesis_wt_unspl.csv')\n",
    "\n",
    "\n",
    "pd.DataFrame(adata_ery.var_names).to_csv('./data_input/list_genes.csv')"
   ]
  }
 ],
 "metadata": {
  "kernelspec": {
   "display_name": "Python 3 (ipykernel)",
   "language": "python",
   "name": "python3"
  },
  "language_info": {
   "codemirror_mode": {
    "name": "ipython",
    "version": 3
   },
   "file_extension": ".py",
   "mimetype": "text/x-python",
   "name": "python",
   "nbconvert_exporter": "python",
   "pygments_lexer": "ipython3",
   "version": "3.7.6"
  }
 },
 "nbformat": 4,
 "nbformat_minor": 5
}
