{
 "cells": [
  {
   "cell_type": "markdown",
   "id": "16af5d8b-6d29-4acd-aae1-1f2e3b14b3c2",
   "metadata": {
    "tags": []
   },
   "source": [
    "# Compare lists of genes"
   ]
  },
  {
   "cell_type": "code",
   "execution_count": 1,
   "id": "1b5ec9a7-a74b-45f3-ac2e-c2ce1c8f0d8e",
   "metadata": {
    "tags": []
   },
   "outputs": [],
   "source": [
    "import pandas as pd\n",
    "import numpy as np"
   ]
  },
  {
   "cell_type": "code",
   "execution_count": 2,
   "id": "de0551f4-8aac-43b6-ac85-e864cfd26c80",
   "metadata": {
    "tags": []
   },
   "outputs": [],
   "source": [
    "# load the genes that we used to run the model\n",
    "\n",
    "list_genes = pd.read_csv('./data_input/list_genes.csv')"
   ]
  },
  {
   "cell_type": "code",
   "execution_count": 3,
   "id": "75e35fdc-6fb1-40e6-aad8-1d2cfd6dfcfb",
   "metadata": {
    "tags": []
   },
   "outputs": [],
   "source": [
    "# load the diffGEK results\n",
    "\n",
    "df = pd.read_csv('./results/statistics_aic.txt',index_col=0,header=None)\n",
    "\n",
    "df.index = list_genes['Gene']"
   ]
  },
  {
   "cell_type": "code",
   "execution_count": 4,
   "id": "2cf083a6-23c5-4de5-8bbf-a9fc3a3fa301",
   "metadata": {
    "tags": []
   },
   "outputs": [
    {
     "data": {
      "text/plain": [
       "1    987\n",
       "2     41\n",
       "3     12\n",
       "4      2\n",
       "Name: 1, dtype: int64"
      ]
     },
     "execution_count": 4,
     "metadata": {},
     "output_type": "execute_result"
    }
   ],
   "source": [
    "df[1].value_counts()"
   ]
  },
  {
   "cell_type": "code",
   "execution_count": 5,
   "id": "8a5b2e7e-1020-4d8e-82ed-0c7b51772ee2",
   "metadata": {
    "tags": []
   },
   "outputs": [],
   "source": [
    "# select only the signaficative genes\n",
    "\n",
    "df_sig = df.loc[df[1] > 1]"
   ]
  },
  {
   "cell_type": "code",
   "execution_count": null,
   "id": "05dc9128-e3e5-4151-a0a9-5e0911149eab",
   "metadata": {},
   "outputs": [],
   "source": []
  },
  {
   "cell_type": "code",
   "execution_count": 6,
   "id": "375c6aff-f1a7-4b68-963c-353c7d665604",
   "metadata": {
    "tags": []
   },
   "outputs": [],
   "source": [
    "# subset corresponding to significance\n",
    "\n",
    "df_tr = df.loc[df[1] == 2]    # transcription only\n",
    "df_sp = df.loc[df[1] == 3]    # splicing only\n",
    "df_de = df.loc[df[1] == 4]    # degradation only\n",
    "df_tr_sp = df.loc[df[1] == 5] # transcription and splicing\n",
    "df_tr_de = df.loc[df[1] == 6] # transcription and degradation\n",
    "df_sp_de = df.loc[df[1] == 7] # splicing and degradation\n",
    "df_all = df.loc[df[1] == 8]   # all rates"
   ]
  },
  {
   "cell_type": "code",
   "execution_count": null,
   "id": "406ae7ab-28bf-44bf-a3bd-db0e81227124",
   "metadata": {
    "tags": []
   },
   "outputs": [],
   "source": []
  },
  {
   "cell_type": "code",
   "execution_count": 7,
   "id": "5dc2c421-8773-4611-b882-d4b107b54378",
   "metadata": {
    "tags": []
   },
   "outputs": [],
   "source": [
    "# load tradeseq genes\n",
    "\n",
    "tradeseq_all = pd.read_csv('./data_input/Jak2_conditionTest_Ery_lfc0.5.txt',sep='\\t',index_col=0)\n",
    "tradeseq_all = tradeseq_all.index"
   ]
  },
  {
   "cell_type": "code",
   "execution_count": null,
   "id": "020546f3-634e-405e-93e9-1a41c6e6663e",
   "metadata": {
    "tags": []
   },
   "outputs": [],
   "source": []
  },
  {
   "cell_type": "code",
   "execution_count": 8,
   "id": "4189df77-9661-471c-82c3-7bd5a1591244",
   "metadata": {
    "tags": []
   },
   "outputs": [],
   "source": [
    "# overlap diffGEK and traSeq\n",
    "\n",
    "overlap_tr_ts = [gene for gene in tradeseq_all if gene in df_tr.index]\n",
    "overlap_sp_ts = [gene for gene in tradeseq_all if gene in df_sp.index]\n",
    "overlap_de_ts = [gene for gene in tradeseq_all if gene in df_de.index]\n",
    "overlap_tr_sp_ts = [gene for gene in tradeseq_all if gene in df_tr_de.index]\n",
    "overlap_tr_de_ts = [gene for gene in tradeseq_all if gene in df_tr_sp.index]\n",
    "overlap_sp_de_ts = [gene for gene in tradeseq_all if gene in df_sp_de.index]\n",
    "overlap_all_ts = [gene for gene in tradeseq_all if gene in df_all.index]"
   ]
  },
  {
   "cell_type": "code",
   "execution_count": 9,
   "id": "e5a2e77b-1766-4eb7-8ffd-0a4358280d8e",
   "metadata": {
    "tags": []
   },
   "outputs": [
    {
     "name": "stdout",
     "output_type": "stream",
     "text": [
      "31\n",
      "1\n",
      "1\n",
      "0\n",
      "0\n",
      "0\n",
      "0\n"
     ]
    }
   ],
   "source": [
    "print(len(overlap_tr_ts))\n",
    "print(len(overlap_sp_ts))\n",
    "print(len(overlap_de_ts))\n",
    "print(len(overlap_tr_sp_ts))\n",
    "print(len(overlap_tr_de_ts))\n",
    "print(len(overlap_sp_de_ts))\n",
    "print(len(overlap_all_ts))"
   ]
  },
  {
   "cell_type": "code",
   "execution_count": 10,
   "id": "a4762d6f-e9a3-4aa8-8e66-ee973e73a517",
   "metadata": {
    "tags": []
   },
   "outputs": [],
   "source": [
    "list_sp_no_overlap = [gene for gene in df_sp.index if gene not in tradeseq_all]"
   ]
  },
  {
   "cell_type": "code",
   "execution_count": 11,
   "id": "fdff872b-1a60-4b36-be3b-733474dc45c6",
   "metadata": {
    "tags": []
   },
   "outputs": [],
   "source": [
    "list_tr_no_overlap = [gene for gene in df_tr.index if gene not in tradeseq_all]"
   ]
  },
  {
   "cell_type": "code",
   "execution_count": 12,
   "id": "6379fa72-6202-4411-9940-7750a7a97f36",
   "metadata": {
    "tags": []
   },
   "outputs": [],
   "source": [
    "list_de_no_overlap = [gene for gene in df_de.index if gene not in tradeseq_all]"
   ]
  },
  {
   "cell_type": "code",
   "execution_count": 13,
   "id": "c81be697-e9dd-48f2-9496-29027fe4f724",
   "metadata": {
    "tags": []
   },
   "outputs": [],
   "source": [
    "list_dk_no_overlap = [gene for gene in df_sig.index if gene not in tradeseq_all]"
   ]
  },
  {
   "cell_type": "code",
   "execution_count": null,
   "id": "d95b58af-a289-4550-aed9-cd825079d3d8",
   "metadata": {},
   "outputs": [],
   "source": []
  },
  {
   "cell_type": "code",
   "execution_count": 14,
   "id": "1b8561f3-e183-4958-9ef7-2e5c9d106ebb",
   "metadata": {
    "tags": []
   },
   "outputs": [],
   "source": [
    "f = open(\"./results/list_genes_tr_no_overlap.txt\", \"a\")\n",
    "for gene in list_tr_no_overlap:\n",
    "    f.write(gene)\n",
    "    f.write('\\n')\n",
    "f.close()\n"
   ]
  },
  {
   "cell_type": "code",
   "execution_count": 15,
   "id": "bc5a89fe-2ef5-4088-bb25-e91a447d2497",
   "metadata": {},
   "outputs": [],
   "source": [
    "f = open(\"./results/list_genes_tr.txt\", \"a\")\n",
    "for gene in df_tr.index:\n",
    "    f.write(gene)\n",
    "    f.write('\\n')\n",
    "f.close()\n"
   ]
  },
  {
   "cell_type": "code",
   "execution_count": 16,
   "id": "19c6cfad-c197-4cd5-a1e2-2f8c7298c4fd",
   "metadata": {
    "tags": []
   },
   "outputs": [],
   "source": [
    "f = open(\"./results/list_genes_sp.txt\", \"a\")\n",
    "for gene in df_sp.index:\n",
    "    f.write(gene)\n",
    "    f.write('\\n')\n",
    "f.close()\n"
   ]
  },
  {
   "cell_type": "code",
   "execution_count": 17,
   "id": "9e1bfaf5-0d5c-47a0-8233-860f7ad1a1fe",
   "metadata": {
    "tags": []
   },
   "outputs": [],
   "source": [
    "f = open(\"./results/list_genes_sp_no_overlap.txt\", \"a\")\n",
    "for gene in list_sp_no_overlap:\n",
    "    f.write(gene)\n",
    "    f.write('\\n')\n",
    "f.close()\n"
   ]
  },
  {
   "cell_type": "code",
   "execution_count": 18,
   "id": "b9a7dda7-7036-4dc3-b44f-01c37115dbcc",
   "metadata": {
    "tags": []
   },
   "outputs": [],
   "source": [
    "f = open(\"./results/list_genes_de.txt\", \"a\")\n",
    "for gene in df_de.index:\n",
    "    f.write(gene)\n",
    "    f.write('\\n')\n",
    "f.close()\n"
   ]
  },
  {
   "cell_type": "code",
   "execution_count": 19,
   "id": "198e4c91-2fc0-4017-8e98-ba8b8712b3ff",
   "metadata": {
    "tags": []
   },
   "outputs": [],
   "source": [
    "f = open(\"./results/list_genes_de_no_overlap.txt\", \"a\")\n",
    "for gene in list_de_no_overlap:\n",
    "    f.write(gene)\n",
    "    f.write('\\n')\n",
    "f.close()\n"
   ]
  },
  {
   "cell_type": "code",
   "execution_count": 20,
   "id": "e7a69ab8-95fd-40c1-b48e-7570ca93bcb5",
   "metadata": {},
   "outputs": [],
   "source": [
    "f = open(\"./results/list_genes_dk.txt\", \"a\")\n",
    "for gene in df_sig.index:\n",
    "    f.write(gene)\n",
    "    f.write('\\n')\n",
    "f.close()"
   ]
  },
  {
   "cell_type": "code",
   "execution_count": 21,
   "id": "6068cf36-1bc9-474b-91f8-c2fdfd01c248",
   "metadata": {},
   "outputs": [],
   "source": [
    "f = open(\"./results/list_genes_dk_no_overlap.txt\", \"a\")\n",
    "for gene in list_dk_no_overlap:\n",
    "    f.write(gene)\n",
    "    f.write('\\n')\n",
    "f.close()"
   ]
  },
  {
   "cell_type": "code",
   "execution_count": 22,
   "id": "ccbc15e5-c4e8-4e12-b1d8-a8c0f26fe43b",
   "metadata": {
    "tags": []
   },
   "outputs": [],
   "source": [
    "f = open(\"./results/list_tradeseq.txt\", \"a\")\n",
    "for gene in tradeseq_all:\n",
    "    f.write(gene)\n",
    "    f.write('\\n')\n",
    "f.close()"
   ]
  },
  {
   "cell_type": "code",
   "execution_count": 23,
   "id": "a3450809-65ff-4f0a-bdaa-2d3419f9b3cb",
   "metadata": {
    "tags": []
   },
   "outputs": [],
   "source": [
    "from venny4py.venny4py import *"
   ]
  },
  {
   "cell_type": "code",
   "execution_count": 24,
   "id": "06727bfa-8a34-46c9-ba1e-2c2fa6b72f01",
   "metadata": {
    "tags": []
   },
   "outputs": [
    {
     "data": {
      "image/png": "[encoded data removed]",
      "text/plain": [
       "<Figure size 700x700 with 1 Axes>"
      ]
     },
     "metadata": {},
     "output_type": "display_data"
    }
   ],
   "source": [
    "sets = {\n",
    "    'Differential trajectory': set(list(tradeseq_all)),\n",
    "    'Differential transcription': set(list(df_tr.index)),\n",
    "    'Differential splicing': set(list(df_sp.index)),\n",
    "    'Differential degradation': set(list(df_de.index))}\n",
    "    \n",
    "venny4py(sets=sets,out='./results/')"
   ]
  },
  {
   "cell_type": "markdown",
   "id": "578a3f90-f82d-4ada-b244-598ecb121c4f",
   "metadata": {},
   "source": [
    "Hypergeometric test"
   ]
  },
  {
   "cell_type": "code",
   "execution_count": 25,
   "id": "4a13fd05-b659-4572-b8dd-ae7d9c85de7d",
   "metadata": {},
   "outputs": [],
   "source": [
    "from scipy.stats import hypergeom as hg"
   ]
  },
  {
   "cell_type": "markdown",
   "id": "ec870b2a-d2b9-4844-a799-0ff48ce0c058",
   "metadata": {},
   "source": [
    "testing transcription"
   ]
  },
  {
   "cell_type": "code",
   "execution_count": 26,
   "id": "0b1cbb38-3f68-4780-a1fe-a9e58fac3234",
   "metadata": {
    "tags": []
   },
   "outputs": [
    {
     "data": {
      "text/plain": [
       "3.567467205804703e-29"
      ]
     },
     "execution_count": 26,
     "metadata": {},
     "output_type": "execute_result"
    }
   ],
   "source": [
    "hg(M=1042, n=41,N=80).sf(31-1)"
   ]
  },
  {
   "cell_type": "markdown",
   "id": "fe47adfd-f239-46ac-92b5-a1a6ed8fea7e",
   "metadata": {
    "tags": []
   },
   "source": [
    "testing splicing"
   ]
  },
  {
   "cell_type": "code",
   "execution_count": 27,
   "id": "3f727e49-39b6-45c8-9d4b-3557c75ac5c4",
   "metadata": {
    "tags": []
   },
   "outputs": [
    {
     "data": {
      "text/plain": [
       "0.61859798951777"
      ]
     },
     "execution_count": 27,
     "metadata": {},
     "output_type": "execute_result"
    }
   ],
   "source": [
    "hg(M=1042, n=12,N=80).sf(1-1)"
   ]
  },
  {
   "cell_type": "markdown",
   "id": "d20d6150-7ae4-43e2-8afa-93ed80db14d3",
   "metadata": {},
   "source": [
    "testing degradation"
   ]
  },
  {
   "cell_type": "code",
   "execution_count": 28,
   "id": "43473099-b76b-4900-87bf-9d120bd1f802",
   "metadata": {
    "tags": []
   },
   "outputs": [
    {
     "data": {
      "text/plain": [
       "0.1477244860897256"
      ]
     },
     "execution_count": 28,
     "metadata": {},
     "output_type": "execute_result"
    }
   ],
   "source": [
    "hg(M=1042, n=2,N=80).sf(1-1)"
   ]
  },
  {
   "cell_type": "markdown",
   "id": "bd0bc2f3-0d4a-430d-90db-f2ae5f5964a2",
   "metadata": {},
   "source": [
    "All genes"
   ]
  },
  {
   "cell_type": "code",
   "execution_count": 29,
   "id": "f4a53dd9-eb18-43b9-a68b-8842bc8e2d56",
   "metadata": {
    "tags": []
   },
   "outputs": [
    {
     "data": {
      "text/plain": [
       "5.528178477553649e-26"
      ]
     },
     "execution_count": 29,
     "metadata": {},
     "output_type": "execute_result"
    }
   ],
   "source": [
    "hg(M=1042, n=55,N=80).sf(33-1)"
   ]
  },
  {
   "cell_type": "code",
   "execution_count": null,
   "id": "17a49e82-c844-42b2-a8e7-210b635c4c5c",
   "metadata": {},
   "outputs": [],
   "source": []
  }
 ],
 "metadata": {
  "kernelspec": {
   "display_name": "Python 3 (ipykernel)",
   "language": "python",
   "name": "python3"
  },
  "language_info": {
   "codemirror_mode": {
    "name": "ipython",
    "version": 3
   },
   "file_extension": ".py",
   "mimetype": "text/x-python",
   "name": "python",
   "nbconvert_exporter": "python",
   "pygments_lexer": "ipython3",
   "version": "3.7.6"
  }
 },
 "nbformat": 4,
 "nbformat_minor": 5
}
